{
 "cells": [
  {
   "cell_type": "markdown",
   "metadata": {},
   "source": [
    "**Regex Version of strip()**\n",
    "Write a function that takes a string and does the same thing as the strip() string method. If no other arguments are passed other than the string to strip, then whitespace characters will be removed from the beginning and end of the string. Otherwise, the characters specified in the second argument to the function will be removed from the string."
   ]
  },
  {
   "cell_type": "code",
   "execution_count": 1,
   "metadata": {},
   "outputs": [],
   "source": [
    "# strip() method in python removes the characters at the ends of the string\n",
    "# and returns the rest of the original string\n",
    "\n",
    "# an argument for specific characters to be removed can be given\n",
    "# this will remove all of the characters in the string given in the argument"
   ]
  },
  {
   "cell_type": "code",
   "execution_count": 2,
   "metadata": {},
   "outputs": [],
   "source": [
    "import re"
   ]
  },
  {
   "cell_type": "code",
   "execution_count": 3,
   "metadata": {},
   "outputs": [],
   "source": [
    "# No argument:\n",
    "    # Detect if string has white spaces at beginning and end\n",
    "    # If there is, need to remove\n",
    "    # If not, leave string alone\n",
    "# Argument:\n",
    "    # detect if characters in argument are present\n",
    "    # If so, then remove all of those charcater in string\n",
    "    # then return the copy of originial wit characters removed\n",
    "    # If not, leave string alone"
   ]
  },
  {
   "cell_type": "code",
   "execution_count": 12,
   "metadata": {},
   "outputs": [
    {
     "name": "stdout",
     "output_type": "stream",
     "text": [
      "Enter character to strip: l\n",
      "Enter string to strip:    Hello  \n",
      "   Heo  \n"
     ]
    }
   ],
   "source": [
    "stripChar = input('Enter character to strip: ')\n",
    "context = input('Enter string to strip: ')\n",
    "strippedContext = None\n",
    "\n",
    "def strip(char, string):\n",
    "    if char == \"\":\n",
    "        # if no character is given to strip\n",
    "        stripRegex = re.compile(r'^\\s+|\\s+$')\n",
    "        # if there are any spaces at the beginning or end of string\n",
    "        strippedContext = stripRegex.sub(\"\", context)\n",
    "        # remove the spaces by substituting them with nothing\n",
    "        return strippedContext\n",
    "    else:                      \n",
    "        strippedContext = re.sub(r'{}+'.format(char), \"\", context)\n",
    "                     # re.sub(pattern, what to replace with, string)\n",
    "                     \n",
    "        return strippedContext\n",
    "\n",
    "print(strip(stripChar, context))"
   ]
  }
 ],
 "metadata": {
  "kernelspec": {
   "display_name": "Python 3",
   "language": "python",
   "name": "python3"
  },
  "language_info": {
   "codemirror_mode": {
    "name": "ipython",
    "version": 3
   },
   "file_extension": ".py",
   "mimetype": "text/x-python",
   "name": "python",
   "nbconvert_exporter": "python",
   "pygments_lexer": "ipython3",
   "version": "3.7.1"
  }
 },
 "nbformat": 4,
 "nbformat_minor": 2
}
